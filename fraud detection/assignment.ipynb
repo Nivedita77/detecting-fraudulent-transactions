{
  "nbformat": 4,
  "nbformat_minor": 0,
  "metadata": {
    "colab": {
      "provenance": []
    },
    "kernelspec": {
      "name": "python3",
      "display_name": "Python 3"
    },
    "language_info": {
      "name": "python"
    }
  },
  "cells": [
    {
      "cell_type": "markdown",
      "source": [
        "## **To address the challenge of detecting fraudulent transactions, I developed a robust fraud detection model using a Random Forest Classifier. Hope you find it helpfull , Thank you.**"
      ],
      "metadata": {
        "id": "w5Cj88uZURhC"
      }
    },
    {
      "cell_type": "code",
      "source": [
        "import pandas as pd\n",
        "import numpy as np\n",
        "import matplotlib.pyplot as plt\n",
        "import seaborn as sns\n",
        "from sklearn.model_selection import train_test_split\n",
        "from sklearn.preprocessing import LabelEncoder, StandardScaler\n",
        "from sklearn.ensemble import RandomForestClassifier\n",
        "from sklearn.metrics import classification_report, roc_auc_score, confusion_matrix, roc_curve\n",
        "\n"
      ],
      "metadata": {
        "id": "gmmvmXtXlKH-"
      },
      "execution_count": null,
      "outputs": []
    },
    {
      "cell_type": "code",
      "source": [
        "data = pd.read_csv('/content/drive/MyDrive/Fraud.csv')"
      ],
      "metadata": {
        "id": "2-jRz4mVfZMd"
      },
      "execution_count": null,
      "outputs": []
    },
    {
      "cell_type": "code",
      "source": [
        "print(data.head())"
      ],
      "metadata": {
        "colab": {
          "base_uri": "https://localhost:8080/"
        },
        "id": "lImu1qs6gtjJ",
        "outputId": "b98593e8-c6cb-41d5-ad79-02acdbc6b731"
      },
      "execution_count": null,
      "outputs": [
        {
          "output_type": "stream",
          "name": "stdout",
          "text": [
            "   step      type    amount     nameOrig  oldbalanceOrg  newbalanceOrig  \\\n",
            "0     1   PAYMENT   9839.64  C1231006815       170136.0       160296.36   \n",
            "1     1   PAYMENT   1864.28  C1666544295        21249.0        19384.72   \n",
            "2     1  TRANSFER    181.00  C1305486145          181.0            0.00   \n",
            "3     1  CASH_OUT    181.00   C840083671          181.0            0.00   \n",
            "4     1   PAYMENT  11668.14  C2048537720        41554.0        29885.86   \n",
            "\n",
            "      nameDest  oldbalanceDest  newbalanceDest  isFraud  isFlaggedFraud  \n",
            "0  M1979787155             0.0             0.0        0               0  \n",
            "1  M2044282225             0.0             0.0        0               0  \n",
            "2   C553264065             0.0             0.0        1               0  \n",
            "3    C38997010         21182.0             0.0        1               0  \n",
            "4  M1230701703             0.0             0.0        0               0  \n"
          ]
        }
      ]
    },
    {
      "cell_type": "markdown",
      "source": [
        "# Missing Values\n",
        "\n",
        "\n",
        "\n"
      ],
      "metadata": {
        "id": "4vUjruOPQE9Q"
      }
    },
    {
      "cell_type": "code",
      "source": [
        "print(data.isnull().sum())\n",
        "data.dropna(inplace=True)"
      ],
      "metadata": {
        "colab": {
          "base_uri": "https://localhost:8080/"
        },
        "id": "bqtwcFbSgtmq",
        "outputId": "812a0c23-7051-4be0-cbc7-0e59028a103c"
      },
      "execution_count": null,
      "outputs": [
        {
          "output_type": "stream",
          "name": "stdout",
          "text": [
            "step              0\n",
            "type              0\n",
            "amount            0\n",
            "nameOrig          0\n",
            "oldbalanceOrg     0\n",
            "newbalanceOrig    0\n",
            "nameDest          0\n",
            "oldbalanceDest    0\n",
            "newbalanceDest    0\n",
            "isFraud           0\n",
            "isFlaggedFraud    0\n",
            "dtype: int64\n"
          ]
        }
      ]
    },
    {
      "cell_type": "markdown",
      "source": [
        "# Outliers"
      ],
      "metadata": {
        "id": "mZvKKKCSQfS_"
      }
    },
    {
      "cell_type": "code",
      "source": [
        "Q1 = data['amount'].quantile(0.25)\n",
        "Q3 = data['amount'].quantile(0.75)\n",
        "IQR = Q3 - Q1\n",
        "data = data[~((data['amount'] < (Q1 - 1.5 * IQR)) | (data['amount'] > (Q3 + 1.5 * IQR)))]\n"
      ],
      "metadata": {
        "id": "7I08mDXkQdvx"
      },
      "execution_count": null,
      "outputs": []
    },
    {
      "cell_type": "markdown",
      "source": [
        "# Multi-Collinearity"
      ],
      "metadata": {
        "id": "6y4WfE3IQnFJ"
      }
    },
    {
      "cell_type": "code",
      "source": [
        "\n",
        "le = LabelEncoder()\n",
        "data['type'] = le.fit_transform(data['type'])"
      ],
      "metadata": {
        "id": "3KAIaTyigtoi"
      },
      "execution_count": null,
      "outputs": []
    },
    {
      "cell_type": "markdown",
      "source": [
        "# **Feature Engineering**: Created new features like errorBalanceOrig and errorBalanceDest to capture balance discrepancies."
      ],
      "metadata": {
        "id": "JzYvLRfdRW_R"
      }
    },
    {
      "cell_type": "code",
      "source": [
        "\n",
        "data['errorBalanceOrig'] = data['newbalanceOrig'] + data['amount'] - data['oldbalanceOrg']\n",
        "data['errorBalanceDest'] = data['oldbalanceDest'] + data['amount'] - data['newbalanceDest']\n"
      ],
      "metadata": {
        "id": "SvufGxVygtrL"
      },
      "execution_count": null,
      "outputs": []
    },
    {
      "cell_type": "code",
      "source": [
        "\n",
        "data = data.drop(['nameOrig', 'nameDest'], axis=1)"
      ],
      "metadata": {
        "id": "09Jw3HNTgttz"
      },
      "execution_count": null,
      "outputs": []
    },
    {
      "cell_type": "code",
      "source": [
        "print(data['isFraud'].value_counts())"
      ],
      "metadata": {
        "id": "adKxQRl-gtwt",
        "colab": {
          "base_uri": "https://localhost:8080/"
        },
        "outputId": "c7c4ed44-5b8b-469e-8655-d92133d86122"
      },
      "execution_count": null,
      "outputs": [
        {
          "output_type": "stream",
          "name": "stdout",
          "text": [
            "isFraud\n",
            "0    6354407\n",
            "1       8213\n",
            "Name: count, dtype: int64\n"
          ]
        }
      ]
    },
    {
      "cell_type": "code",
      "source": [
        "sns.countplot(x='isFraud', data=data)\n",
        "plt.show()"
      ],
      "metadata": {
        "id": "HwiFPdAugt0Q",
        "colab": {
          "base_uri": "https://localhost:8080/",
          "height": 465
        },
        "outputId": "54ed59c7-d4a2-41b7-d780-8e218a945ae3"
      },
      "execution_count": null,
      "outputs": [
        {
          "output_type": "display_data",
          "data": {
            "text/plain": [
              "<Figure size 640x480 with 1 Axes>"
            ],
            "image/png": "[encoded data removed]"
          },
          "metadata": {}
        }
      ]
    },
    {
      "cell_type": "code",
      "source": [
        "X = data.drop(['isFraud', 'isFlaggedFraud'], axis=1)\n",
        "y = data['isFraud']\n",
        "X_train, X_test, y_train, y_test = train_test_split(X, y, test_size=0.3, random_state=42, stratify=y)\n"
      ],
      "metadata": {
        "id": "JFxkY5ivh4VF"
      },
      "execution_count": null,
      "outputs": []
    },
    {
      "cell_type": "code",
      "source": [
        "\n",
        "scaler = StandardScaler()\n",
        "X_train = scaler.fit_transform(X_train)\n",
        "X_test = scaler.transform(X_test)"
      ],
      "metadata": {
        "id": "cPYkaLx9h4Xw"
      },
      "execution_count": null,
      "outputs": []
    },
    {
      "cell_type": "markdown",
      "source": [
        "# Fraud Detection Model: Random Forest"
      ],
      "metadata": {
        "id": "e7k_W9EfQ69l"
      }
    },
    {
      "cell_type": "code",
      "source": [
        "model = RandomForestClassifier(n_estimators=100, random_state=42)\n",
        "model.fit(X_train, y_train)"
      ],
      "metadata": {
        "id": "46f6ZD22h4aX",
        "colab": {
          "base_uri": "https://localhost:8080/",
          "height": 74
        },
        "outputId": "280a6c35-61a1-40be-afca-01b2926cc705"
      },
      "execution_count": null,
      "outputs": [
        {
          "output_type": "execute_result",
          "data": {
            "text/plain": [
              "RandomForestClassifier(random_state=42)"
            ],
            "text/html": [
              "<style>#sk-container-id-1 {color: black;background-color: white;}#sk-container-id-1 pre{padding: 0;}#sk-container-id-1 div.sk-toggleable {background-color: white;}#sk-container-id-1 label.sk-toggleable__label {cursor: pointer;display: block;width: 100%;margin-bottom: 0;padding: 0.3em;box-sizing: border-box;text-align: center;}#sk-container-id-1 label.sk-toggleable__label-arrow:before {content: \"▸\";float: left;margin-right: 0.25em;color: #696969;}#sk-container-id-1 label.sk-toggleable__label-arrow:hover:before {color: black;}#sk-container-id-1 div.sk-estimator:hover label.sk-toggleable__label-arrow:before {color: black;}#sk-container-id-1 div.sk-toggleable__content {max-height: 0;max-width: 0;overflow: hidden;text-align: left;background-color: #f0f8ff;}#sk-container-id-1 div.sk-toggleable__content pre {margin: 0.2em;color: black;border-radius: 0.25em;background-color: #f0f8ff;}#sk-container-id-1 input.sk-toggleable__control:checked~div.sk-toggleable__content {max-height: 200px;max-width: 100%;overflow: auto;}#sk-container-id-1 input.sk-toggleable__control:checked~label.sk-toggleable__label-arrow:before {content: \"▾\";}#sk-container-id-1 div.sk-estimator input.sk-toggleable__control:checked~label.sk-toggleable__label {background-color: #d4ebff;}#sk-container-id-1 div.sk-label input.sk-toggleable__control:checked~label.sk-toggleable__label {background-color: #d4ebff;}#sk-container-id-1 input.sk-hidden--visually {border: 0;clip: rect(1px 1px 1px 1px);clip: rect(1px, 1px, 1px, 1px);height: 1px;margin: -1px;overflow: hidden;padding: 0;position: absolute;width: 1px;}#sk-container-id-1 div.sk-estimator {font-family: monospace;background-color: #f0f8ff;border: 1px dotted black;border-radius: 0.25em;box-sizing: border-box;margin-bottom: 0.5em;}#sk-container-id-1 div.sk-estimator:hover {background-color: #d4ebff;}#sk-container-id-1 div.sk-parallel-item::after {content: \"\";width: 100%;border-bottom: 1px solid gray;flex-grow: 1;}#sk-container-id-1 div.sk-label:hover label.sk-toggleable__label {background-color: #d4ebff;}#sk-container-id-1 div.sk-serial::before {content: \"\";position: absolute;border-left: 1px solid gray;box-sizing: border-box;top: 0;bottom: 0;left: 50%;z-index: 0;}#sk-container-id-1 div.sk-serial {display: flex;flex-direction: column;align-items: center;background-color: white;padding-right: 0.2em;padding-left: 0.2em;position: relative;}#sk-container-id-1 div.sk-item {position: relative;z-index: 1;}#sk-container-id-1 div.sk-parallel {display: flex;align-items: stretch;justify-content: center;background-color: white;position: relative;}#sk-container-id-1 div.sk-item::before, #sk-container-id-1 div.sk-parallel-item::before {content: \"\";position: absolute;border-left: 1px solid gray;box-sizing: border-box;top: 0;bottom: 0;left: 50%;z-index: -1;}#sk-container-id-1 div.sk-parallel-item {display: flex;flex-direction: column;z-index: 1;position: relative;background-color: white;}#sk-container-id-1 div.sk-parallel-item:first-child::after {align-self: flex-end;width: 50%;}#sk-container-id-1 div.sk-parallel-item:last-child::after {align-self: flex-start;width: 50%;}#sk-container-id-1 div.sk-parallel-item:only-child::after {width: 0;}#sk-container-id-1 div.sk-dashed-wrapped {border: 1px dashed gray;margin: 0 0.4em 0.5em 0.4em;box-sizing: border-box;padding-bottom: 0.4em;background-color: white;}#sk-container-id-1 div.sk-label label {font-family: monospace;font-weight: bold;display: inline-block;line-height: 1.2em;}#sk-container-id-1 div.sk-label-container {text-align: center;}#sk-container-id-1 div.sk-container {/* jupyter's `normalize.less` sets `[hidden] { display: none; }` but bootstrap.min.css set `[hidden] { display: none !important; }` so we also need the `!important` here to be able to override the default hidden behavior on the sphinx rendered scikit-learn.org. See: https://github.com/scikit-learn/scikit-learn/issues/21755 */display: inline-block !important;position: relative;}#sk-container-id-1 div.sk-text-repr-fallback {display: none;}</style><div id=\"sk-container-id-1\" class=\"sk-top-container\"><div class=\"sk-text-repr-fallback\"><pre>RandomForestClassifier(random_state=42)</pre><b>In a Jupyter environment, please rerun this cell to show the HTML representation or trust the notebook. <br />On GitHub, the HTML representation is unable to render, please try loading this page with nbviewer.org.</b></div><div class=\"sk-container\" hidden><div class=\"sk-item\"><div class=\"sk-estimator sk-toggleable\"><input class=\"sk-toggleable__control sk-hidden--visually\" id=\"sk-estimator-id-1\" type=\"checkbox\" checked><label for=\"sk-estimator-id-1\" class=\"sk-toggleable__label sk-toggleable__label-arrow\">RandomForestClassifier</label><div class=\"sk-toggleable__content\"><pre>RandomForestClassifier(random_state=42)</pre></div></div></div></div></div>"
            ]
          },
          "metadata": {},
          "execution_count": 13
        }
      ]
    },
    {
      "cell_type": "markdown",
      "source": [
        "# Feature Importance\n"
      ],
      "metadata": {
        "id": "khKmwxsLRNIO"
      }
    },
    {
      "cell_type": "code",
      "source": [
        "\n",
        "importances = model.feature_importances_\n",
        "feature_names = X.columns\n",
        "features_df = pd.DataFrame({'Feature': feature_names, 'Importance': importances}).sort_values(by='Importance', ascending=False)\n",
        "print(features_df)\n"
      ],
      "metadata": {
        "colab": {
          "base_uri": "https://localhost:8080/"
        },
        "id": "xw9evf4CJpE4",
        "outputId": "d4a8f55d-4d15-49d8-a481-da031d21776c"
      },
      "execution_count": null,
      "outputs": [
        {
          "output_type": "stream",
          "name": "stdout",
          "text": [
            "            Feature  Importance\n",
            "4    newbalanceOrig    0.459574\n",
            "7  errorBalanceOrig    0.156454\n",
            "6    newbalanceDest    0.095744\n",
            "2            amount    0.085504\n",
            "8  errorBalanceDest    0.074778\n",
            "3     oldbalanceOrg    0.053445\n",
            "0              step    0.034020\n",
            "5    oldbalanceDest    0.020807\n",
            "1              type    0.019673\n"
          ]
        }
      ]
    },
    {
      "cell_type": "markdown",
      "source": [
        "# Model by Using the Best Set of Tools"
      ],
      "metadata": {
        "id": "JGoEp2YhSC3P"
      }
    },
    {
      "cell_type": "code",
      "source": [
        "\n",
        "y_pred = model.predict(X_test)\n",
        "print(classification_report(y_test, y_pred))\n",
        "print('ROC AUC Score:', roc_auc_score(y_test, y_pred))"
      ],
      "metadata": {
        "id": "-GWN7WTTh4dR",
        "colab": {
          "base_uri": "https://localhost:8080/"
        },
        "outputId": "f578994a-53c5-4f2e-eeb5-c7e428260b01"
      },
      "execution_count": null,
      "outputs": [
        {
          "output_type": "stream",
          "name": "stdout",
          "text": [
            "              precision    recall  f1-score   support\n",
            "\n",
            "           0       1.00      1.00      1.00   1906322\n",
            "           1       1.00      1.00      1.00      2464\n",
            "\n",
            "    accuracy                           1.00   1908786\n",
            "   macro avg       1.00      1.00      1.00   1908786\n",
            "weighted avg       1.00      1.00      1.00   1908786\n",
            "\n",
            "ROC AUC Score: 0.9981737012987013\n"
          ]
        }
      ]
    },
    {
      "cell_type": "code",
      "source": [
        "# Confusion matrix\n",
        "conf_matrix = confusion_matrix(y_test, y_pred)\n",
        "sns.heatmap(conf_matrix, annot=True, fmt='d', cmap='Blues')\n",
        "plt.xlabel('Predicted')\n",
        "plt.ylabel('Actual')\n",
        "plt.show()"
      ],
      "metadata": {
        "id": "U8-j3E2nh4fZ",
        "colab": {
          "base_uri": "https://localhost:8080/",
          "height": 465
        },
        "outputId": "595fe541-92ae-4a2f-ae76-8e2678f0618b"
      },
      "execution_count": null,
      "outputs": [
        {
          "output_type": "display_data",
          "data": {
            "text/plain": [
              "<Figure size 640x480 with 2 Axes>"
            ],
            "image/png": "[encoded data removed]"
          },
          "metadata": {}
        }
      ]
    },
    {
      "cell_type": "code",
      "source": [
        "\n",
        "importances = model.feature_importances_\n",
        "indices = np.argsort(importances)[::-1]\n",
        "features = X.columns\n"
      ],
      "metadata": {
        "id": "PQHTE72Ph4iF"
      },
      "execution_count": null,
      "outputs": []
    },
    {
      "cell_type": "code",
      "source": [
        "plt.figure()\n",
        "plt.title(\"Feature importances\")\n",
        "plt.bar(range(X.shape[1]), importances[indices], align=\"center\")\n",
        "plt.xticks(range(X.shape[1]), features[indices], rotation=90)\n",
        "plt.xlim([-1, X.shape[1]])\n",
        "plt.show()"
      ],
      "metadata": {
        "id": "GEN6_g6Zh4j2",
        "colab": {
          "base_uri": "https://localhost:8080/",
          "height": 559
        },
        "outputId": "e1f1f2e8-cad8-401e-b309-9541325a9dbb"
      },
      "execution_count": null,
      "outputs": [
        {
          "output_type": "display_data",
          "data": {
            "text/plain": [
              "<Figure size 640x480 with 1 Axes>"
            ],
            "image/png": "[encoded data removed]"
          },
          "metadata": {}
        }
      ]
    },
    {
      "cell_type": "code",
      "source": [
        "import pickle\n",
        "import joblib\n",
        "\n",
        "# Save the model to a file\n",
        "joblib.dump(model, 'fraud_detection_model.pkl')\n",
        "print(\"Model saved to fraud_detection_model.pkl\")\n"
      ],
      "metadata": {
        "colab": {
          "base_uri": "https://localhost:8080/"
        },
        "id": "ZnQFJb677Jw_",
        "outputId": "7aee0a89-f9de-4d9e-97a6-c00e91601fee"
      },
      "execution_count": null,
      "outputs": [
        {
          "output_type": "stream",
          "name": "stdout",
          "text": [
            "Model saved to fraud_detection_model.pkl\n"
          ]
        }
      ]
    },
    {
      "cell_type": "code",
      "source": [
        "# Save the scaler\n",
        "joblib.dump(scaler, 'scaler.pkl')\n",
        "print(\"Scaler saved to scaler.pkl\")\n",
        "\n",
        "# Load the scaler\n",
        "loaded_scaler = joblib.load('scaler.pkl')\n",
        "print(\"Scaler loaded from scaler.pkl\")\n"
      ],
      "metadata": {
        "colab": {
          "base_uri": "https://localhost:8080/"
        },
        "id": "OVp4giJDLfjz",
        "outputId": "097b1f42-c94a-45a1-d1e5-d7412ab11fc1"
      },
      "execution_count": null,
      "outputs": [
        {
          "output_type": "stream",
          "name": "stdout",
          "text": [
            "Scaler saved to scaler.pkl\n",
            "Scaler loaded from scaler.pkl\n"
          ]
        }
      ]
    },
    {
      "cell_type": "code",
      "source": [
        "\n",
        "# Load the trained model\n",
        "model = joblib.load('fraud_detection_model.pkl')\n",
        "scaler = joblib.load('scaler.pkl')\n",
        "\n",
        "# Sample input data\n",
        "# Ensure the input data has the same columns and preprocessing as the training data\n",
        "input_data = {\n",
        "    'step': [1],\n",
        "    'type': ['TRANSFER'], # Example: 'TRANSFER', 'PAYMENT', etc.\n",
        "    'amount': [5000],\n",
        "    'oldbalanceOrg': [10000],\n",
        "    'newbalanceOrig': [5000],\n",
        "    'oldbalanceDest': [5000],\n",
        "    'newbalanceDest': [10000],\n",
        "    'errorBalanceOrig': [5000 + 5000 - 10000],\n",
        "    'errorBalanceDest': [5000 + 5000 - 10000]\n",
        "}\n",
        "\n",
        "# Convert input data to DataFrame\n",
        "input_df = pd.DataFrame(input_data)\n",
        "\n",
        "# Encode the 'type' column\n",
        "input_df['type'] = input_df['type'].astype('category').cat.codes\n",
        "\n",
        "# Ensure the feature columns are in the same order as the training data\n",
        "input_features = input_df[['step', 'type', 'amount', 'oldbalanceOrg', 'newbalanceOrig', 'oldbalanceDest', 'newbalanceDest', 'errorBalanceOrig', 'errorBalanceDest']]\n",
        "\n",
        "# Scale the input features\n",
        "input_features_scaled = scaler.transform(input_features)\n",
        "\n",
        "# Make prediction\n",
        "prediction = model.predict(input_features_scaled)\n",
        "prediction_proba = model.predict_proba(input_features_scaled)\n",
        "\n",
        "# Output the prediction\n",
        "is_fraud = prediction[0]\n",
        "fraud_probability = prediction_proba[0][1]\n",
        "\n",
        "print(f\"Is the transaction fraudulent? {'Yes' if is_fraud else 'No'}\")\n",
        "print(f\"Probability of being fraudulent: {fraud_probability:.2f}\")\n"
      ],
      "metadata": {
        "colab": {
          "base_uri": "https://localhost:8080/"
        },
        "id": "9PWdPnU1L1Rs",
        "outputId": "04deec18-f79f-47e4-9a74-2383c0663130"
      },
      "execution_count": null,
      "outputs": [
        {
          "output_type": "stream",
          "name": "stdout",
          "text": [
            "Is the transaction fraudulent? No\n",
            "Probability of being fraudulent: 0.04\n"
          ]
        }
      ]
    },
    {
      "cell_type": "markdown",
      "source": [
        "\n",
        "**Key Factors that Predict Fraudulent Customer**\n",
        "\n",
        "*Amount*: Large transaction amounts are often flagged.\n",
        "\n",
        "*Type*: Certain types of transactions, like TRANSFER and CASH_OUT, are more prone to fraud.\n",
        "\n",
        "*Balance Discrepancies*: Differences in balances before and after the transaction (errorBalanceOrig and errorBalanceDest).\n"
      ],
      "metadata": {
        "id": "Y1oxNkxJSbih"
      }
    },
    {
      "cell_type": "markdown",
      "source": [
        "**Yes, They Make Sense**:\n",
        "\n",
        "*Amount*: Fraudulent transactions often involve unusually large amounts to maximize the gain.\n",
        "\n",
        "*Type*: Fraudsters typically use types like TRANSFER and CASH_OUT to move money quickly out of accounts.\n",
        "\n",
        "*Balance Discrepancies*: Significant discrepancies in balances can indicate unauthorized access and manipulation."
      ],
      "metadata": {
        "id": "aLQIrDIBS106"
      }
    },
    {
      "cell_type": "markdown",
      "source": [
        "**Prevention Measures**:\n",
        "\n",
        "*Monitor High-Value Transactions*: Flag transactions above a certain threshold for manual review.\n",
        "\n",
        "*Implement Real-Time Alerts*: For unusual activity based on user behavior and transaction patterns.\n",
        "\n",
        "*Enhanced Verification*: Strengthen verification for high-risk transactions.\n",
        "Regular Audits: Conduct regular audits of transactions to detect any patterns of fraud.\n",
        "\n",
        "*Employee Training*: Train employees to recognize and respond to potential fraud."
      ],
      "metadata": {
        "id": "CEhj1DupTIlT"
      }
    },
    {
      "cell_type": "markdown",
      "source": [
        "**If These Actions Have Been Implemented, the way i determine will be**\n",
        "\n",
        "*Monitor Fraud Rates*: Compare the number of detected fraud cases before and after implementing the measures.\n",
        "\n",
        "*Customer Feedback*: Collect feedback to gauge if customers feel more secure.\n",
        "\n",
        "*Key Performance Indicators (KPIs)*: Track metrics like false positive rate, detection rate, and response time.\n",
        "\n",
        "*Regular Audits*: Conduct regular audits to assess the effectiveness of the fraud detection measures.\n",
        "\n",
        "*A/B Testing*: Implement changes in a phased manner and compare performance against control groups to determine the impact."
      ],
      "metadata": {
        "id": "hOqYSYmbTtgq"
      }
    }
  ]
}